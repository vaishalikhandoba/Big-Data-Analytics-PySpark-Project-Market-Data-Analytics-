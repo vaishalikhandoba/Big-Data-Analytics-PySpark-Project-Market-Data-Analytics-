{
 "cells": [
  {
   "cell_type": "markdown",
   "id": "c9580890-041a-4894-b553-9583278c336a",
   "metadata": {},
   "source": [
    "# Explore how the collect() operation works in PySpark using a dataset with basic RDD operations."
   ]
  },
  {
   "cell_type": "markdown",
   "id": "272f99c9-91a6-4d25-aa36-863f89a63786",
   "metadata": {},
   "source": [
    "**Dataset Description** The dataset contains records of 50 students, with the following attributes:"
   ]
  },
  {
   "cell_type": "markdown",
   "id": "503a623e-f206-4fce-b523-bd16024b132e",
   "metadata": {},
   "source": [
    "| Attribute | Description | \n",
    "|----------|----------|\n",
    "| id    | Unique identifier for each student  | \n",
    "| name    | Student’s name  | \n",
    "| age    | Student’s age in years  | \n",
    "| gender    | Gender (M for male, F for female)  | \n",
    "| math    | Marks obtained in Mathematics (0–100)  | \n",
    "| science    | Marks obtained in Science (0–100)  | \n",
    "| english    | Marks obtained in English (0–100)  | \n"
   ]
  },
  {
   "cell_type": "markdown",
   "id": "3a1b7a57-7927-4f41-be73-7f456f3fc0a2",
   "metadata": {},
   "source": [
    "**Dataset Overview**\n",
    "- Total Records: 50 students\n",
    "- Columns: 7 -> id, name, age, gender, math, science, english\n",
    "- No missing values\n",
    "\n",
    "**Demographics**\n",
    "- Age: 18 – 25 years (average ≈ 21.5)\n",
    "- Gender: 29 Female, 21 Male\n",
    "\n",
    "**Academic Performance**\n",
    "1. Math:\n",
    "- Range: 40 – 100\n",
    "- Mean: 68.9\n",
    "- Std. Dev.: 17.6 (high variation)\n",
    "2. Science:\n",
    "- Range: 44 – 99\n",
    "- Mean: 70.2\n",
    "- Std. Dev.: 14.6 (moderate variation)\n",
    "3. English:\n",
    "- Range: 42 – 100\n",
    "- Mean: 69.4\n",
    "- Std. Dev.: 18.7 (highest variation)\n",
    "\n",
    "**Key Insights**\n",
    "- Science is the strongest subject on average.\n",
    "- English has the most variation in performance.\n",
    "- Students perform differently across subjects (not uniform)."
   ]
  },
  {
   "cell_type": "code",
   "execution_count": 1,
   "id": "260c3aab-6be3-4de2-bd21-0e7b17b88124",
   "metadata": {},
   "outputs": [
    {
     "data": {
      "text/html": [
       "\n",
       "        <div>\n",
       "            <p><b>SparkContext</b></p>\n",
       "\n",
       "            <p><a href=\"http://LAPTOP-K7VP4JSA:4041\">Spark UI</a></p>\n",
       "\n",
       "            <dl>\n",
       "              <dt>Version</dt>\n",
       "                <dd><code>v4.0.1</code></dd>\n",
       "              <dt>Master</dt>\n",
       "                <dd><code>local[*]</code></dd>\n",
       "              <dt>AppName</dt>\n",
       "                <dd><code>PySparkShell</code></dd>\n",
       "            </dl>\n",
       "        </div>\n",
       "        "
      ],
      "text/plain": [
       "<SparkContext master=local[*] appName=PySparkShell>"
      ]
     },
     "execution_count": 1,
     "metadata": {},
     "output_type": "execute_result"
    }
   ],
   "source": [
    "sc"
   ]
  },
  {
   "cell_type": "code",
   "execution_count": 5,
   "id": "4809bb71-a1d6-40ff-9161-f4a1ce7f4ded",
   "metadata": {},
   "outputs": [],
   "source": [
    "data = sc.textFile(\"students.csv\")"
   ]
  },
  {
   "cell_type": "code",
   "execution_count": 7,
   "id": "4aab81dc-7965-41a7-b1f2-cfbfde36284d",
   "metadata": {},
   "outputs": [],
   "source": [
    "header = data.first()\n",
    "rows = data.filter(lambda line: line != header)"
   ]
  },
  {
   "cell_type": "code",
   "execution_count": 8,
   "id": "f68817ed-5cc7-415e-bf37-210684b2487c",
   "metadata": {},
   "outputs": [],
   "source": [
    "split_rdd = rows.map(lambda line: line.split(\",\"))"
   ]
  },
  {
   "cell_type": "code",
   "execution_count": 9,
   "id": "a242bd6d-643c-4240-a12c-e602efa361fe",
   "metadata": {},
   "outputs": [
    {
     "name": "stdout",
     "output_type": "stream",
     "text": [
      "=== Student Dataset (first 10 rows) ===\n",
      "['1', 'Alice', '20', 'F', '66', '92', '44']\n",
      "['2', 'Bob', '20', 'M', '82', '52', '77']\n",
      "['3', 'Charlie', '22', 'F', '43', '57', '76']\n",
      "['4', 'David', '19', 'M', '95', '69', '46']\n",
      "['5', 'Eva', '19', 'F', '62', '44', '96']\n",
      "['6', 'Frank', '22', 'F', '70', '78', '94']\n",
      "['7', 'Grace', '24', 'F', '67', '66', '93']\n",
      "['8', 'Henry', '21', 'F', '53', '82', '60']\n",
      "['9', 'Ivy', '19', 'M', '64', '52', '46']\n",
      "['10', 'Jack', '19', 'F', '44', '59', '60']\n"
     ]
    }
   ],
   "source": [
    "print(\"=== Student Dataset (first 10 rows) ===\")\n",
    "for row in split_rdd.take(10):   # you can change 10 → 20, 50 etc.\n",
    "    print(row)"
   ]
  },
  {
   "cell_type": "code",
   "execution_count": 10,
   "id": "97cef0eb-b0f9-4fdd-9ace-d8e3ad4108ec",
   "metadata": {},
   "outputs": [],
   "source": [
    "students_rdd = split_rdd.map(lambda x: (int(x[0]), x[1], int(x[2]), x[3], int(x[4]), int(x[5]), int(x[6])))"
   ]
  },
  {
   "cell_type": "code",
   "execution_count": 11,
   "id": "cb7435fc-fb86-4f98-aa1b-814f8844b8c1",
   "metadata": {},
   "outputs": [],
   "source": [
    "avg_marks_rdd = students_rdd.map(lambda x: (x[1], (x[4] + x[5] + x[6]) / 3))"
   ]
  },
  {
   "cell_type": "code",
   "execution_count": 12,
   "id": "233c3cf3-f703-4f76-a59a-803e7474d540",
   "metadata": {},
   "outputs": [],
   "source": [
    "passed_rdd = avg_marks_rdd.filter(lambda x: x[1] >= 75)"
   ]
  },
  {
   "cell_type": "code",
   "execution_count": 13,
   "id": "d69ce7f9-0136-4633-8848-4355e3d1e557",
   "metadata": {},
   "outputs": [],
   "source": [
    "sorted_passed_rdd = passed_rdd.sortBy(lambda x: x[1], ascending=False)"
   ]
  },
  {
   "cell_type": "code",
   "execution_count": 14,
   "id": "c85763de-eb6a-450c-b6be-bf63fa68a8da",
   "metadata": {},
   "outputs": [],
   "source": [
    "results = sorted_passed_rdd.collect()"
   ]
  },
  {
   "cell_type": "code",
   "execution_count": 16,
   "id": "7d387590-7a6e-4ef3-b0a4-bb7d35bc4e96",
   "metadata": {},
   "outputs": [
    {
     "name": "stdout",
     "output_type": "stream",
     "text": [
      "=== Students with Average >= 75 ===\n",
      "Name: Leo, Avg Marks: 88.00\n",
      "Name: Olivia, Avg Marks: 88.00\n",
      "Name: Rita, Avg Marks: 86.67\n",
      "Name: Kathy, Avg Marks: 81.67\n",
      "Name: George, Avg Marks: 81.67\n",
      "Name: Frank, Avg Marks: 80.67\n",
      "Name: Oscar, Avg Marks: 80.00\n",
      "Name: Uma, Avg Marks: 78.33\n",
      "Name: Kyle, Avg Marks: 78.33\n",
      "Name: Matt, Avg Marks: 78.33\n",
      "Name: Tina, Avg Marks: 76.00\n",
      "Name: Victor, Avg Marks: 75.67\n",
      "Name: Grace, Avg Marks: 75.33\n",
      "Name: Mona, Avg Marks: 75.00\n",
      "Name: Will, Avg Marks: 75.00\n"
     ]
    }
   ],
   "source": [
    "print(\"=== Students with Average >= 75 ===\")\n",
    "for student in results:\n",
    "    print(f\"Name: {student[0]}, Avg Marks: {student[1]:.2f}\")"
   ]
  },
  {
   "cell_type": "code",
   "execution_count": 17,
   "id": "be2d5baa-c926-45af-a4aa-73fc997220ab",
   "metadata": {},
   "outputs": [
    {
     "name": "stdout",
     "output_type": "stream",
     "text": [
      "\n",
      "Number of students who passed: 15\n"
     ]
    }
   ],
   "source": [
    "count_passed = passed_rdd.count()\n",
    "print(\"\\nNumber of students who passed:\", count_passed)"
   ]
  },
  {
   "cell_type": "code",
   "execution_count": 18,
   "id": "671fb0bf-d9da-48f7-9b57-1b90aa79c9b1",
   "metadata": {},
   "outputs": [
    {
     "name": "stdout",
     "output_type": "stream",
     "text": [
      "Topper: ('Olivia', 88.0)\n"
     ]
    }
   ],
   "source": [
    "topper = passed_rdd.reduce(lambda a, b: a if a[1] > b[1] else b)\n",
    "print(\"Topper:\", topper)"
   ]
  },
  {
   "cell_type": "code",
   "execution_count": 19,
   "id": "2089d8d1-9edd-4331-aa13-e9e2646d318e",
   "metadata": {},
   "outputs": [
    {
     "name": "stdout",
     "output_type": "stream",
     "text": [
      "\n",
      "First 5 Passed Students (via take):\n",
      "[('Frank', 80.66666666666667), ('Grace', 75.33333333333333), ('Kathy', 81.66666666666667), ('Leo', 88.0), ('Mona', 75.0)]\n"
     ]
    }
   ],
   "source": [
    "print(\"\\nFirst 5 Passed Students (via take):\")\n",
    "print(passed_rdd.take(5))"
   ]
  },
  {
   "cell_type": "markdown",
   "id": "b4b434ac-ce7f-42fe-a1af-023ac1a639f6",
   "metadata": {},
   "source": [
    "### Conclusion of the Experiment (PySpark RDD Analysis)\n",
    "The experiment successfully demonstrated how to use PySpark RDDs to process and analyze a student dataset.\n",
    "\n",
    "Key steps performed included:\n",
    "- **Spark Context** setup (sc).\n",
    "\n",
    "- **Loading Dataset:**\n",
    "  - data = sc.textFile(\"students.csv\")\n",
    "\n",
    "- **Preprocessing:**\n",
    "  - Removed header row.\n",
    "  - Split lines into fields.\n",
    "\n",
    "- **Transformations:**\n",
    "  - map() → convert rows into structured format.\n",
    "  - filter() → apply conditions (e.g., scores/age-based filtering).\n",
    "  - flatMap() → expand data where needed.\n",
    "\n",
    "- **Actions:**\n",
    "  - collect() → retrieve all records.\n",
    "  - count() → count number of rows.\n",
    "  - first(), take(n) → preview sample records.\n",
    "\n",
    "- **Aggregations:**\n",
    "  - reduceByKey() / groupByKey() for subject-wise or student-wise operations.\n",
    "  - Possibly word count–style demo for understanding RDD basics.\n",
    "\n",
    "- **Findings from the dataset:**\n",
    "  - Only 15 students passed with an average ≥ 75.\n",
    "  - Leo and Olivia were the highest scorers with 88 average marks.\n",
    "  - The remaining 35 students require improvement in their overall performance.\n",
    "\n",
    "This experiment highlights the power of PySpark RDDs for preprocessing, analyzing, and summarizing structured data."
   ]
  }
 ],
 "metadata": {
  "kernelspec": {
   "display_name": "Python 3 (ipykernel)",
   "language": "python",
   "name": "python3"
  },
  "language_info": {
   "codemirror_mode": {
    "name": "ipython",
    "version": 3
   },
   "file_extension": ".py",
   "mimetype": "text/x-python",
   "name": "python",
   "nbconvert_exporter": "python",
   "pygments_lexer": "ipython3",
   "version": "3.11.1"
  }
 },
 "nbformat": 4,
 "nbformat_minor": 5
}
