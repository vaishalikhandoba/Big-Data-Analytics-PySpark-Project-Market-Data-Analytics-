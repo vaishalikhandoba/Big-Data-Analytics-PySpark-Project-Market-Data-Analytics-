{
 "cells": [
  {
   "cell_type": "markdown",
   "id": "a89f5b60-7861-4464-bf56-a689030b437d",
   "metadata": {},
   "source": [
    "# Implement and demonstrate dataset sampling using the sample() and takeSample() methods in PySpark.(DataFrames)"
   ]
  },
  {
   "cell_type": "markdown",
   "id": "dfb62fd1-780a-47f3-b8af-1ade7b1499c5",
   "metadata": {},
   "source": [
    "**Dataset Description** The dataset contains records of 50 students, with the following attributes:"
   ]
  },
  {
   "cell_type": "markdown",
   "id": "8e5e4e43-b2e3-42f8-ad32-1d6f16318564",
   "metadata": {},
   "source": [
    "| Attribute | Description | \n",
    "|----------|----------|\n",
    "| id    | Unique identifier for each student  | \n",
    "| name    | Student’s name  | \n",
    "| age    | Student’s age in years  | \n",
    "| gender    | Gender (M for male, F for female)  | \n",
    "| math    | Marks obtained in Mathematics (0–100)  | \n",
    "| science    | Marks obtained in Science (0–100)  | \n",
    "| english    | Marks obtained in English (0–100)  | "
   ]
  },
  {
   "cell_type": "markdown",
   "id": "cbd9793d-026a-4ff3-ab6c-d6298840b9af",
   "metadata": {},
   "source": [
    "**Dataset Overview**\n",
    "- Total Records: 50 students\n",
    "- Columns: 7 -> id, name, age, gender, math, science, english\n",
    "- No missing values\n",
    "\n",
    "**Demographics**\n",
    "- Age: 18 – 25 years (average ≈ 21.5)\n",
    "- Gender: 29 Female, 21 Male\n",
    "\n",
    "**Academic Performance**\n",
    "1. Math:\n",
    "- Range: 40 – 100\n",
    "- Mean: 68.9\n",
    "- Std. Dev.: 17.6 (high variation)\n",
    "2. Science:\n",
    "- Range: 44 – 99\n",
    "- Mean: 70.2\n",
    "- Std. Dev.: 14.6 (moderate variation)\n",
    "3. English:\n",
    "- Range: 42 – 100\n",
    "- Mean: 69.4\n",
    "- Std. Dev.: 18.7 (highest variation)\n",
    "\n",
    "**Key Insights**\n",
    "- Science is the strongest subject on average.\n",
    "- English has the most variation in performance.\n",
    "- Students perform differently across subjects (not uniform)."
   ]
  },
  {
   "cell_type": "code",
   "execution_count": 1,
   "id": "e63d152c-f6ab-4309-a43f-3058bc172b7c",
   "metadata": {},
   "outputs": [
    {
     "data": {
      "text/html": [
       "\n",
       "        <div>\n",
       "            <p><b>SparkContext</b></p>\n",
       "\n",
       "            <p><a href=\"http://LAPTOP-K7VP4JSA:4044\">Spark UI</a></p>\n",
       "\n",
       "            <dl>\n",
       "              <dt>Version</dt>\n",
       "                <dd><code>v4.0.1</code></dd>\n",
       "              <dt>Master</dt>\n",
       "                <dd><code>local[*]</code></dd>\n",
       "              <dt>AppName</dt>\n",
       "                <dd><code>PySparkShell</code></dd>\n",
       "            </dl>\n",
       "        </div>\n",
       "        "
      ],
      "text/plain": [
       "<SparkContext master=local[*] appName=PySparkShell>"
      ]
     },
     "execution_count": 1,
     "metadata": {},
     "output_type": "execute_result"
    }
   ],
   "source": [
    "sc"
   ]
  },
  {
   "cell_type": "code",
   "execution_count": 3,
   "id": "d79d4ce7-1c07-484f-80b7-1d977b08e388",
   "metadata": {},
   "outputs": [],
   "source": [
    "from pyspark.sql import SparkSession\n",
    " # Step 1: Initialize Spark Session\n",
    "spark = SparkSession.builder.appName(\"SamplingExample\").getOrCreate()"
   ]
  },
  {
   "cell_type": "code",
   "execution_count": 4,
   "id": "89e5690d-da6f-4b85-8f8f-23189f17202f",
   "metadata": {},
   "outputs": [],
   "source": [
    "df = spark.read.csv(\"students.csv\", header=True, inferSchema=True)"
   ]
  },
  {
   "cell_type": "code",
   "execution_count": 5,
   "id": "9ec7f88f-af8e-4365-a056-7e7a4513397c",
   "metadata": {},
   "outputs": [
    {
     "name": "stdout",
     "output_type": "stream",
     "text": [
      "=== First 5 rows of dataset ===\n",
      "+---+-------+---+------+----+-------+-------+\n",
      "| id|   name|age|gender|math|science|english|\n",
      "+---+-------+---+------+----+-------+-------+\n",
      "|  1|  Alice| 20|     F|  66|     92|     44|\n",
      "|  2|    Bob| 20|     M|  82|     52|     77|\n",
      "|  3|Charlie| 22|     F|  43|     57|     76|\n",
      "|  4|  David| 19|     M|  95|     69|     46|\n",
      "|  5|    Eva| 19|     F|  62|     44|     96|\n",
      "+---+-------+---+------+----+-------+-------+\n",
      "only showing top 5 rows\n"
     ]
    }
   ],
   "source": [
    "print(\"=== First 5 rows of dataset ===\")\n",
    "df.show(5)"
   ]
  },
  {
   "cell_type": "code",
   "execution_count": 6,
   "id": "26e55bdb-2c27-4cf4-ba30-4ff01e0dac97",
   "metadata": {},
   "outputs": [
    {
     "name": "stdout",
     "output_type": "stream",
     "text": [
      "=== Schema of dataset ===\n",
      "root\n",
      " |-- id: integer (nullable = true)\n",
      " |-- name: string (nullable = true)\n",
      " |-- age: integer (nullable = true)\n",
      " |-- gender: string (nullable = true)\n",
      " |-- math: integer (nullable = true)\n",
      " |-- science: integer (nullable = true)\n",
      " |-- english: integer (nullable = true)\n",
      "\n"
     ]
    }
   ],
   "source": [
    "print(\"=== Schema of dataset ===\")\n",
    "df.printSchema()"
   ]
  },
  {
   "cell_type": "code",
   "execution_count": 7,
   "id": "0ca227bb-b63d-4f42-8df5-9e1febebdbcb",
   "metadata": {},
   "outputs": [
    {
     "name": "stdout",
     "output_type": "stream",
     "text": [
      "=== Sample (30% without replacement) ===\n",
      "+---+------+---+------+----+-------+-------+\n",
      "| id|  name|age|gender|math|science|english|\n",
      "+---+------+---+------+----+-------+-------+\n",
      "|  4| David| 19|     M|  95|     69|     46|\n",
      "|  8| Henry| 21|     F|  53|     82|     60|\n",
      "| 17|Quincy| 18|     M|  65|     79|     54|\n",
      "| 19|   Sam| 18|     F|  76|     70|     65|\n",
      "| 27| Aaron| 25|     F|  81|     99|     44|\n",
      "| 28| Bella| 19|     F|  54|     76|     76|\n",
      "| 32| Fiona| 22|     F|  48|     96|     48|\n",
      "| 37|  Kyle| 21|     M|  57|     86|     92|\n",
      "| 39|  Matt| 25|     M|  64|     71|    100|\n",
      "| 41| Oscar| 20|     M|  87|     72|     81|\n",
      "+---+------+---+------+----+-------+-------+\n",
      "only showing top 10 rows\n"
     ]
    }
   ],
   "source": [
    "print(\"=== Sample (30% without replacement) ===\")\n",
    "df.sample(withReplacement=False, fraction=0.3, seed=42).show(10)"
   ]
  },
  {
   "cell_type": "code",
   "execution_count": 8,
   "id": "6668fa36-944b-4acf-95f3-c6b0538bf284",
   "metadata": {},
   "outputs": [
    {
     "name": "stdout",
     "output_type": "stream",
     "text": [
      "=== Sample (20% with replacement) ===\n",
      "+---+------+---+------+----+-------+-------+\n",
      "| id|  name|age|gender|math|science|english|\n",
      "+---+------+---+------+----+-------+-------+\n",
      "|  6| Frank| 22|     F|  70|     78|     94|\n",
      "|  7| Grace| 24|     F|  67|     66|     93|\n",
      "| 14|Nathan| 23|     F|  71|     66|     60|\n",
      "| 17|Quincy| 18|     M|  65|     79|     54|\n",
      "| 21|   Uma| 19|     F|  89|     70|     76|\n",
      "| 22|Victor| 22|     M|  96|     75|     56|\n",
      "| 31| Ethan| 24|     M|  53|     57|     45|\n",
      "| 32| Fiona| 22|     F|  48|     96|     48|\n",
      "| 35|   Ian| 21|     F|  72|     75|     70|\n",
      "| 38| Laura| 23|     M|  84|     73|     56|\n",
      "+---+------+---+------+----+-------+-------+\n",
      "only showing top 10 rows\n"
     ]
    }
   ],
   "source": [
    "print(\"=== Sample (20% with replacement) ===\")\n",
    "df.sample(withReplacement=True, fraction=0.2, seed=42).show(10)"
   ]
  },
  {
   "cell_type": "code",
   "execution_count": 9,
   "id": "fb229b73-6c91-4181-a539-1bb54c8e306b",
   "metadata": {},
   "outputs": [
    {
     "name": "stdout",
     "output_type": "stream",
     "text": [
      "=== takeSample: 5 rows (without replacement) ===\n",
      "Row(id=35, name='Ian', age=21, gender='F', math=72, science=75, english=70)\n",
      "Row(id=26, name='Zoey', age=18, gender='M', math=42, science=48, english=42)\n",
      "Row(id=17, name='Quincy', age=18, gender='M', math=65, science=79, english=54)\n",
      "Row(id=43, name='Quinn', age=18, gender='F', math=56, science=60, english=87)\n",
      "Row(id=38, name='Laura', age=23, gender='M', math=84, science=73, english=56)\n"
     ]
    }
   ],
   "source": [
    "print(\"=== takeSample: 5 rows (without replacement) ===\")\n",
    "sampled_rows = df.rdd.takeSample(False, 5, seed=42)\n",
    "for row in sampled_rows:\n",
    "    print(row)"
   ]
  },
  {
   "cell_type": "code",
   "execution_count": 10,
   "id": "750f6c4b-701d-4676-a806-5dc7901a6c6d",
   "metadata": {},
   "outputs": [
    {
     "name": "stdout",
     "output_type": "stream",
     "text": [
      "=== takeSample: 5 rows (with replacement) ===\n",
      "Row(id=47, name='Umar', age=21, gender='F', math=75, science=80, english=59)\n",
      "Row(id=17, name='Quincy', age=18, gender='M', math=65, science=79, english=54)\n",
      "Row(id=10, name='Jack', age=19, gender='F', math=44, science=59, english=60)\n",
      "Row(id=38, name='Laura', age=23, gender='M', math=84, science=73, english=56)\n",
      "Row(id=23, name='Wendy', age=24, gender='M', math=57, science=83, english=81)\n"
     ]
    }
   ],
   "source": [
    "print(\"=== takeSample: 5 rows (with replacement) ===\")\n",
    "sampled_rows_wr = df.rdd.takeSample(True, 5, seed=42)\n",
    "for row in sampled_rows_wr:\n",
    "    print(row)"
   ]
  },
  {
   "cell_type": "code",
   "execution_count": 11,
   "id": "f7b7039e-2157-4e6b-ba8c-efca675208e3",
   "metadata": {},
   "outputs": [
    {
     "name": "stdout",
     "output_type": "stream",
     "text": [
      "Total rows in dataset: 50\n"
     ]
    }
   ],
   "source": [
    "# 7. Count total rows (to compare with sampled data size)\n",
    "print(\"Total rows in dataset:\", df.count())"
   ]
  },
  {
   "cell_type": "markdown",
   "id": "07c841cc-7fd4-40eb-992f-cbefb377f23e",
   "metadata": {},
   "source": [
    "### **Conclusion of the Experiment (PySpark DataFrame Sampling)**\n",
    "\n",
    "* The experiment demonstrated **dataset sampling in PySpark DataFrames** using both the `sample()` and `takeSample()` methods.\n",
    "\n",
    "* **Key operations performed:**\n",
    "\n",
    "  1. **Viewed initial data:** displayed the first 5 rows and examined the schema.\n",
    "  2. **Random sampling without replacement:** selected a fraction (30%) of the dataset using `sample(withReplacement=False)`.\n",
    "  3. **Random sampling with replacement:** selected a fraction (20%) of the dataset using `sample(withReplacement=True)`.\n",
    "  4. **Row-based sampling with `takeSample()` (without replacement):** selected 5 random rows.\n",
    "  5. **Row-based sampling with `takeSample()` (with replacement):** selected 5 random rows allowing duplicates.\n",
    "  6. **Total dataset size:** confirmed total rows as 50 for reference.\n",
    "\n",
    "* **Findings:**\n",
    "\n",
    "  * **`sample()` method** allows fractional sampling and can be configured with or without replacement.\n",
    "  * **`takeSample()` method** is useful for **selecting a fixed number of rows** randomly, again with or without replacement.\n",
    "  * Sampling methods provide **flexible ways to create smaller subsets** of large datasets for testing, analysis, or debugging.\n",
    "  * Using a **seed** ensures reproducibility of the sampled data.\n",
    "\n",
    "* **Learning Outcome:**\n",
    "\n",
    "  * Gained practical experience with **PySpark DataFrame sampling techniques**, an important skill for **data exploration, testing, and handling large datasets**.\n",
    "  * Learned the difference between **fraction-based sampling (`sample`)** and **fixed-size row sampling (`takeSample`)**."
   ]
  }
 ],
 "metadata": {
  "kernelspec": {
   "display_name": "Python 3 (ipykernel)",
   "language": "python",
   "name": "python3"
  },
  "language_info": {
   "codemirror_mode": {
    "name": "ipython",
    "version": 3
   },
   "file_extension": ".py",
   "mimetype": "text/x-python",
   "name": "python",
   "nbconvert_exporter": "python",
   "pygments_lexer": "ipython3",
   "version": "3.11.1"
  }
 },
 "nbformat": 4,
 "nbformat_minor": 5
}
