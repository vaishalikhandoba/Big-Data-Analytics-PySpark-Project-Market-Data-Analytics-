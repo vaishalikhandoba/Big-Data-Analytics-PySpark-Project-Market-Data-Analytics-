{
 "cells": [
  {
   "cell_type": "markdown",
   "id": "fb3b60d3-4204-4dea-b4a3-73d7ca1c9e6b",
   "metadata": {},
   "source": [
    "# Create a DataFrame in PySpark by loading data from a CSV file and perform basic analytical operations"
   ]
  },
  {
   "cell_type": "markdown",
   "id": "7eebb41f-05c3-42da-995e-2df954baa900",
   "metadata": {},
   "source": [
    "**Dataset Description**\n",
    "The dataset contains records of 50 students, with the following attributes:\n",
    "\n",
    "| Attribute | Description                           |\n",
    "| --------- | ------------------------------------- |\n",
    "| `id`      | Unique identifier for each student    |\n",
    "| `name`    | Student’s name                        |\n",
    "| `age`     | Student’s age in years                |\n",
    "| `gender`  | Gender (`M` for male, `F` for female) |\n",
    "| `math`    | Marks obtained in Mathematics (0–100) |\n",
    "| `science` | Marks obtained in Science (0–100)     |\n",
    "| `english` | Marks obtained in English (0–100)     |"
   ]
  },
  {
   "cell_type": "markdown",
   "id": "f9a3230a-4060-4601-8926-028546b3b855",
   "metadata": {},
   "source": [
    "**Dataset Overview**\n",
    "- Total Records: 50 students\n",
    "- Columns: 7 -> id, name, age, gender, math, science, english\n",
    "- No missing values\n",
    "\n",
    "**Demographics**\n",
    "- Age: 18 – 25 years (average ≈ 21.5)\n",
    "- Gender: 29 Female, 21 Male\n",
    "\n",
    "**Academic Performance**\n",
    "1. Math:\n",
    "- Range: 40 – 100\n",
    "- Mean: 68.9\n",
    "- Std. Dev.: 17.6 (high variation)\n",
    "2. Science:\n",
    "- Range: 44 – 99\n",
    "- Mean: 70.2\n",
    "- Std. Dev.: 14.6 (moderate variation)\n",
    "3. English:\n",
    "- Range: 42 – 100\n",
    "- Mean: 69.4\n",
    "- Std. Dev.: 18.7 (highest variation)\n",
    "\n",
    "**Key Insights**\n",
    "- Science is the strongest subject on average.\n",
    "- English has the most variation in performance.\n",
    "- Students perform differently across subjects (not uniform)."
   ]
  },
  {
   "cell_type": "code",
   "execution_count": 1,
   "id": "8796acb6-4ae2-4514-9456-fb1216893647",
   "metadata": {},
   "outputs": [
    {
     "data": {
      "text/html": [
       "\n",
       "        <div>\n",
       "            <p><b>SparkContext</b></p>\n",
       "\n",
       "            <p><a href=\"http://LAPTOP-K7VP4JSA:4045\">Spark UI</a></p>\n",
       "\n",
       "            <dl>\n",
       "              <dt>Version</dt>\n",
       "                <dd><code>v4.0.1</code></dd>\n",
       "              <dt>Master</dt>\n",
       "                <dd><code>local[*]</code></dd>\n",
       "              <dt>AppName</dt>\n",
       "                <dd><code>PySparkShell</code></dd>\n",
       "            </dl>\n",
       "        </div>\n",
       "        "
      ],
      "text/plain": [
       "<SparkContext master=local[*] appName=PySparkShell>"
      ]
     },
     "execution_count": 1,
     "metadata": {},
     "output_type": "execute_result"
    }
   ],
   "source": [
    "sc"
   ]
  },
  {
   "cell_type": "code",
   "execution_count": 2,
   "id": "fe5c093a-67ce-41ff-9453-7d14d5c97a2c",
   "metadata": {},
   "outputs": [],
   "source": [
    " from pyspark.sql import SparkSession\n",
    " from pyspark.sql.functions import col, avg, max, min, round, count"
   ]
  },
  {
   "cell_type": "code",
   "execution_count": 3,
   "id": "59555c9c-7718-48c6-8609-4976d089b75d",
   "metadata": {},
   "outputs": [],
   "source": [
    " spark = SparkSession.builder.appName(\"StudentsAnalytics\").getOrCreate()"
   ]
  },
  {
   "cell_type": "code",
   "execution_count": 4,
   "id": "f2f24723-9527-4cbd-9a80-51b2dcfe77a8",
   "metadata": {},
   "outputs": [],
   "source": [
    " df = spark.read.csv(\"students.csv\", header=True, inferSchema=True)"
   ]
  },
  {
   "cell_type": "code",
   "execution_count": 5,
   "id": "d50abc4c-acb9-4c4b-b61a-7d438f44bf57",
   "metadata": {},
   "outputs": [
    {
     "name": "stdout",
     "output_type": "stream",
     "text": [
      "=== First 5 rows ===\n",
      "+---+-------+---+------+----+-------+-------+\n",
      "| id|   name|age|gender|math|science|english|\n",
      "+---+-------+---+------+----+-------+-------+\n",
      "|  1|  Alice| 20|     F|  66|     92|     44|\n",
      "|  2|    Bob| 20|     M|  82|     52|     77|\n",
      "|  3|Charlie| 22|     F|  43|     57|     76|\n",
      "|  4|  David| 19|     M|  95|     69|     46|\n",
      "|  5|    Eva| 19|     F|  62|     44|     96|\n",
      "+---+-------+---+------+----+-------+-------+\n",
      "only showing top 5 rows\n"
     ]
    }
   ],
   "source": [
    " print(\"=== First 5 rows ===\")\n",
    " df.show(5)\n"
   ]
  },
  {
   "cell_type": "code",
   "execution_count": 6,
   "id": "398a1c2b-cd36-4d33-9d85-3ef4899fc083",
   "metadata": {},
   "outputs": [
    {
     "name": "stdout",
     "output_type": "stream",
     "text": [
      "=== Schema ===\n",
      "root\n",
      " |-- id: integer (nullable = true)\n",
      " |-- name: string (nullable = true)\n",
      " |-- age: integer (nullable = true)\n",
      " |-- gender: string (nullable = true)\n",
      " |-- math: integer (nullable = true)\n",
      " |-- science: integer (nullable = true)\n",
      " |-- english: integer (nullable = true)\n",
      "\n"
     ]
    }
   ],
   "source": [
    "print(\"=== Schema ===\")\n",
    " df.printSchema()\n"
   ]
  },
  {
   "cell_type": "code",
   "execution_count": 7,
   "id": "32c422df-2e51-4331-98da-d1506b3a9248",
   "metadata": {},
   "outputs": [
    {
     "name": "stdout",
     "output_type": "stream",
     "text": [
      "Total rows: 50\n"
     ]
    }
   ],
   "source": [
    " print(\"Total rows:\", df.count())"
   ]
  },
  {
   "cell_type": "code",
   "execution_count": 8,
   "id": "0b59fc5c-6007-4a45-b14e-4af73dd50150",
   "metadata": {},
   "outputs": [
    {
     "name": "stdout",
     "output_type": "stream",
     "text": [
      "=== Summary Statistics ===\n",
      "+-------+------------------+-----+------------------+------+------------------+------------------+-----------------+\n",
      "|summary|                id| name|               age|gender|              math|           science|          english|\n",
      "+-------+------------------+-----+------------------+------+------------------+------------------+-----------------+\n",
      "|  count|                50|   50|                50|    50|                50|                50|               50|\n",
      "|   mean|              25.5| NULL|              21.5|  NULL|             68.94|             70.16|            69.36|\n",
      "| stddev|14.577379737113251| NULL|2.2337851101588404|  NULL|17.609610085034216|14.636214521186957|18.74507826560544|\n",
      "|    min|                 1|Aaron|                18|     F|                40|                44|               42|\n",
      "|    max|                50| Zoey|                25|     M|               100|                99|              100|\n",
      "+-------+------------------+-----+------------------+------+------------------+------------------+-----------------+\n",
      "\n"
     ]
    }
   ],
   "source": [
    "print(\"=== Summary Statistics ===\")\n",
    "df.describe().show()\n"
   ]
  },
  {
   "cell_type": "code",
   "execution_count": 9,
   "id": "150dd921-85fd-4e87-b88e-6840372c7996",
   "metadata": {},
   "outputs": [
    {
     "name": "stdout",
     "output_type": "stream",
     "text": [
      "=== Students with math >= 80 ===\n",
      "+---+------+----+\n",
      "| id|  name|math|\n",
      "+---+------+----+\n",
      "|  2|   Bob|  82|\n",
      "|  4| David|  95|\n",
      "| 11| Kathy|  85|\n",
      "| 12|   Leo|  97|\n",
      "| 15|Olivia|  87|\n",
      "| 20|  Tina| 100|\n",
      "| 21|   Uma|  89|\n",
      "| 22|Victor|  96|\n",
      "| 25|  Yara| 100|\n",
      "| 27| Aaron|  81|\n",
      "+---+------+----+\n",
      "only showing top 10 rows\n"
     ]
    }
   ],
   "source": [
    " print(\"=== Students with math >= 80 ===\")\n",
    " df.filter(col(\"math\") >= 80).select(\"id\", \"name\", \"math\").show(10)"
   ]
  },
  {
   "cell_type": "code",
   "execution_count": 10,
   "id": "bf1fa412-1495-4765-9ee5-19d4acb0af57",
   "metadata": {},
   "outputs": [
    {
     "name": "stdout",
     "output_type": "stream",
     "text": [
      "=== Average marks per subject ===\n",
      "+--------+-----------+-----------+\n",
      "|avg_math|avg_science|avg_english|\n",
      "+--------+-----------+-----------+\n",
      "|   68.94|      70.16|      69.36|\n",
      "+--------+-----------+-----------+\n",
      "\n"
     ]
    }
   ],
   "source": [
    " print(\"=== Average marks per subject ===\")\n",
    " df.select(\n",
    "     round(avg(\"math\"),2).alias(\"avg_math\"),\n",
    "     round(avg(\"science\"),2).alias(\"avg_science\"),\n",
    "     round(avg(\"english\"),2).alias(\"avg_english\")\n",
    " ).show()\n"
   ]
  },
  {
   "cell_type": "code",
   "execution_count": 11,
   "id": "80c52e9f-bd59-4249-8c39-e5cc2fdc1c9b",
   "metadata": {},
   "outputs": [
    {
     "name": "stdout",
     "output_type": "stream",
     "text": [
      "=== Dataset with 'average' column ===\n",
      "+---+-------+---+------+----+-------+-------+-------+\n",
      "| id|   name|age|gender|math|science|english|average|\n",
      "+---+-------+---+------+----+-------+-------+-------+\n",
      "|  1|  Alice| 20|     F|  66|     92|     44|  67.33|\n",
      "|  2|    Bob| 20|     M|  82|     52|     77|  70.33|\n",
      "|  3|Charlie| 22|     F|  43|     57|     76|  58.67|\n",
      "|  4|  David| 19|     M|  95|     69|     46|   70.0|\n",
      "|  5|    Eva| 19|     F|  62|     44|     96|  67.33|\n",
      "+---+-------+---+------+----+-------+-------+-------+\n",
      "only showing top 5 rows\n"
     ]
    }
   ],
   "source": [
    " df_with_avg = df.withColumn(\"average\", round((col(\"math\")+col(\"science\")+col(\"english\"))/3,2))\n",
    " print(\"=== Dataset with 'average' column ===\")\n",
    " df_with_avg.show(5)"
   ]
  },
  {
   "cell_type": "code",
   "execution_count": 12,
   "id": "84db2ab4-8df2-4432-81e7-c5203b43909c",
   "metadata": {},
   "outputs": [
    {
     "name": "stdout",
     "output_type": "stream",
     "text": [
      "=== Topper ===\n",
      "+---+----+---+------+----+-------+-------+-------+\n",
      "| id|name|age|gender|math|science|english|average|\n",
      "+---+----+---+------+----+-------+-------+-------+\n",
      "| 12| Leo| 24|     M|  97|     84|     83|   88.0|\n",
      "+---+----+---+------+----+-------+-------+-------+\n",
      "\n"
     ]
    }
   ],
   "source": [
    " print(\"=== Topper ===\")\n",
    " df_with_avg.orderBy(col(\"average\").desc()).limit(1).show()"
   ]
  },
  {
   "cell_type": "code",
   "execution_count": 13,
   "id": "5f809cfa-deba-41ae-b3b3-f2a9c0d6ff3b",
   "metadata": {},
   "outputs": [
    {
     "name": "stdout",
     "output_type": "stream",
     "text": [
      "=== Average marks by gender ===\n",
      "+------+--------+-----------+-----------+-----------+\n",
      "|gender|avg_math|avg_science|avg_english|overall_avg|\n",
      "+------+--------+-----------+-----------+-----------+\n",
      "|     F|   63.86|      68.55|      70.55|      67.66|\n",
      "|     M|   75.95|      72.38|      67.71|      72.02|\n",
      "+------+--------+-----------+-----------+-----------+\n",
      "\n"
     ]
    }
   ],
   "source": [
    " print(\"=== Average marks by gender ===\")\n",
    " df_with_avg.groupBy(\"gender\").agg(\n",
    "     round(avg(\"math\"),2).alias(\"avg_math\"),\n",
    "     round(avg(\"science\"),2).alias(\"avg_science\"),\n",
    "     round(avg(\"english\"),2).alias(\"avg_english\"),\n",
    "     round(avg(\"average\"),2).alias(\"overall_avg\")\n",
    " ).show()"
   ]
  },
  {
   "cell_type": "code",
   "execution_count": 14,
   "id": "46d53559-3b36-4284-9047-06e8fe2efc19",
   "metadata": {},
   "outputs": [
    {
     "name": "stdout",
     "output_type": "stream",
     "text": [
      "=== Min & Max of each subject ===\n",
      "+--------+--------+-----------+-----------+-----------+-----------+\n",
      "|min_math|max_math|min_science|max_science|min_english|max_english|\n",
      "+--------+--------+-----------+-----------+-----------+-----------+\n",
      "|      40|     100|         44|         99|         42|        100|\n",
      "+--------+--------+-----------+-----------+-----------+-----------+\n",
      "\n"
     ]
    }
   ],
   "source": [
    " print(\"=== Min & Max of each subject ===\")\n",
    " df.select(\n",
    "     min(\"math\").alias(\"min_math\"), max(\"math\").alias(\"max_math\"),\n",
    "     min(\"science\").alias(\"min_science\"), max(\"science\").alias(\"max_science\"),\n",
    "     min(\"english\").alias(\"min_english\"), max(\"english\").alias(\"max_english\")\n",
    " ).show()"
   ]
  },
  {
   "cell_type": "markdown",
   "id": "c13d2a51-ca33-4618-af81-880d3fc211db",
   "metadata": {},
   "source": [
    "### **Conclusion of the Experiment (PySpark DataFrame Analytics)**\n",
    "\n",
    "* In this experiment, we created a **PySpark DataFrame by loading data from a CSV file** and performed **basic analytical operations**.\n",
    "\n",
    "* **Key operations performed:**\n",
    "\n",
    "  1. Viewed the first few rows and examined the schema to understand the dataset structure.\n",
    "  2. Counted total rows and displayed column names.\n",
    "  3. Generated summary statistics for numeric columns to understand central tendency and spread.\n",
    "  4. Filtered students with **math marks >= 80** to identify high achievers.\n",
    "  5. Calculated **average marks per subject** to get subject-wise insights.\n",
    "  6. Added a new **‘average’ column** representing the mean of all subjects for each student.\n",
    "  7. Identified the **topper** by sorting on the average marks.\n",
    "  8. Grouped data by **gender** to analyze subject-wise and overall average differences.\n",
    "  9. Calculated **minimum and maximum marks** for each subject to determine the range.\n",
    "\n",
    "* **Findings:**\n",
    "\n",
    "  * The average marks in Math, Science, and English are around **68–70**.\n",
    "  * Male students have slightly higher **Math averages**, while female students perform better in **English**.\n",
    "  * The topper of the class scored an **average of 88**.\n",
    "  * The dataset contains a diverse range of scores, highlighting both high and low performers.\n",
    "\n",
    "* **Learning Outcome:**\n",
    "\n",
    "  * Gained hands-on experience with **PySpark DataFrame operations** such as filtering, aggregation, and column transformations.\n",
    "  * Learned to derive **insights from structured data**, an essential step in big data analytics."
   ]
  }
 ],
 "metadata": {
  "kernelspec": {
   "display_name": "Python 3 (ipykernel)",
   "language": "python",
   "name": "python3"
  },
  "language_info": {
   "codemirror_mode": {
    "name": "ipython",
    "version": 3
   },
   "file_extension": ".py",
   "mimetype": "text/x-python",
   "name": "python",
   "nbconvert_exporter": "python",
   "pygments_lexer": "ipython3",
   "version": "3.11.1"
  }
 },
 "nbformat": 4,
 "nbformat_minor": 5
}
