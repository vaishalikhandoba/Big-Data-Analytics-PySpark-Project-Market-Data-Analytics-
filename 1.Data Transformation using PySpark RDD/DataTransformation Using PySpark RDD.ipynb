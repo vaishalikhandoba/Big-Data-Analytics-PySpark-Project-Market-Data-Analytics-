{
 "cells": [
  {
   "cell_type": "markdown",
   "id": "bf4a8e34-4fba-4690-a74f-c62858137556",
   "metadata": {},
   "source": [
    "# Perform simple data transformation like filtering even numbers from a given list using PySpark RDD"
   ]
  },
  {
   "cell_type": "markdown",
   "id": "9172a8c7-3ef1-4b8f-a070-75b21dba24b0",
   "metadata": {},
   "source": [
    "## Introduction: \n",
    "This project demonstrates the use of PySpark RDDs (Resilient Distributed Datasets) for parallel data processing. Using PySpark, a list of 100 randomly generated integers is distributed across the cluster, enabling efficient transformation and filtering. The project focuses on identifying even numbers from the dataset, showcasing PySpark’s ability to handle data in a distributed and scalable manner. This exercise introduces key PySpark concepts such as RDD creation, transformations (filter), and actions (collect), serving as a foundation for more advanced big data analytics workflows."
   ]
  },
  {
   "cell_type": "code",
   "execution_count": 1,
   "id": "05379c60-6cc4-4504-b671-285a40e0977d",
   "metadata": {},
   "outputs": [
    {
     "data": {
      "text/html": [
       "\n",
       "        <div>\n",
       "            <p><b>SparkContext</b></p>\n",
       "\n",
       "            <p><a href=\"http://LAPTOP-K7VP4JSA:4040\">Spark UI</a></p>\n",
       "\n",
       "            <dl>\n",
       "              <dt>Version</dt>\n",
       "                <dd><code>v4.0.1</code></dd>\n",
       "              <dt>Master</dt>\n",
       "                <dd><code>local[*]</code></dd>\n",
       "              <dt>AppName</dt>\n",
       "                <dd><code>PySparkShell</code></dd>\n",
       "            </dl>\n",
       "        </div>\n",
       "        "
      ],
      "text/plain": [
       "<SparkContext master=local[*] appName=PySparkShell>"
      ]
     },
     "execution_count": 1,
     "metadata": {},
     "output_type": "execute_result"
    }
   ],
   "source": [
    "sc"
   ]
  },
  {
   "cell_type": "code",
   "execution_count": 2,
   "id": "01c56106-43b7-423a-91e0-52e37fa5a189",
   "metadata": {},
   "outputs": [],
   "source": [
    "import random"
   ]
  },
  {
   "cell_type": "code",
   "execution_count": 3,
   "id": "e2b79a68-a7f8-42da-8da6-eda984f9cf16",
   "metadata": {},
   "outputs": [
    {
     "name": "stdout",
     "output_type": "stream",
     "text": [
      "Original List:\n",
      "[727, 569, 800, 952, 723, 330, 572, 731, 764, 318, 586, 815, 327, 435, 940, 320, 498, 375, 35, 926, 526, 436, 11, 851, 308, 249, 385, 44, 832, 723, 906, 979, 397, 931, 722, 218, 79, 576, 603, 830, 314, 275, 773, 812, 173, 549, 143, 393, 351, 760, 710, 570, 164, 810, 1, 459, 490, 302, 482, 118, 121, 191, 411, 953, 728, 773, 650, 673, 512, 979, 286, 33, 278, 863, 948, 661, 981, 901, 320, 801, 553, 451, 910, 460, 729, 117, 506, 969, 1000, 421, 492, 388, 473, 592, 797, 894, 932, 26, 585, 29]\n"
     ]
    }
   ],
   "source": [
    "random_numbers = [random.randint(1, 1000) for _ in range(100)]\n",
    "print(\"Original List:\")\n",
    "print(random_numbers)"
   ]
  },
  {
   "cell_type": "code",
   "execution_count": 4,
   "id": "a2b1461c-6ec2-40b2-9fc8-de763d814cd5",
   "metadata": {},
   "outputs": [],
   "source": [
    "numbers_rdd = sc.parallelize(random_numbers)"
   ]
  },
  {
   "cell_type": "code",
   "execution_count": 5,
   "id": "a8b40975-d48c-403c-bcd1-75d41448bb4b",
   "metadata": {},
   "outputs": [],
   "source": [
    "even_numbers_rdd = numbers_rdd.filter(lambda x: x % 2 == 0)"
   ]
  },
  {
   "cell_type": "code",
   "execution_count": 6,
   "id": "aa856dc8-6fe9-4ffd-b4a1-8050688646ea",
   "metadata": {},
   "outputs": [
    {
     "name": "stdout",
     "output_type": "stream",
     "text": [
      "\n",
      "Even Numbers:\n",
      "[800, 952, 330, 572, 764, 318, 586, 940, 320, 498, 926, 526, 436, 308, 44, 832, 906, 722, 218, 576, 830, 314, 812, 760, 710, 570, 164, 810, 490, 302, 482, 118, 728, 650, 512, 286, 278, 948, 320, 910, 460, 506, 1000, 492, 388, 592, 894, 932, 26]\n"
     ]
    }
   ],
   "source": [
    "even_numbers = even_numbers_rdd.collect()\n",
    "print(\"\\nEven Numbers:\")\n",
    "print(even_numbers)"
   ]
  },
  {
   "cell_type": "markdown",
   "id": "01e8a7d3-ea3b-4299-bc1e-f1757ac84c43",
   "metadata": {},
   "source": [
    "## Conclusion: \n",
    "The project successfully filtered even numbers from a randomly generated dataset using PySpark RDDs. It highlights the efficiency and scalability of PySpark for parallel data processing tasks. By leveraging distributed computation, even small datasets can be processed quickly, illustrating the advantages of RDDs in performing transformations and aggregations. This serves as a practical example of how PySpark can handle larger datasets in real-world data analytics scenarios."
   ]
  },
  {
   "cell_type": "code",
   "execution_count": null,
   "id": "fafa87bb-570b-489e-9c02-5cc2e28d1bcb",
   "metadata": {},
   "outputs": [],
   "source": []
  }
 ],
 "metadata": {
  "kernelspec": {
   "display_name": "Python 3 (ipykernel)",
   "language": "python",
   "name": "python3"
  },
  "language_info": {
   "codemirror_mode": {
    "name": "ipython",
    "version": 3
   },
   "file_extension": ".py",
   "mimetype": "text/x-python",
   "name": "python",
   "nbconvert_exporter": "python",
   "pygments_lexer": "ipython3",
   "version": "3.11.1"
  }
 },
 "nbformat": 4,
 "nbformat_minor": 5
}
